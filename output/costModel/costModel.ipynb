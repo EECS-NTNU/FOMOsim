{
 "cells": [
  {
   "cell_type": "markdown",
   "metadata": {},
   "source": [
    "# FOMO simplistic profit maximation example\n",
    "\n",
    "1) Run the experiment exp_lasse3.py. It writes the simulation results to a local [text file](simulatedTrips.txt). (Note that it is rather time-consuming, especially if the used initial states are not cached from earlier simulations) \n",
    "\n",
    "2) The interactive cost model in the cell below assumes a fixed income of 20 NOK for a succesfull trip. Press Restart above and then the play-button to the left in the cell and use the slide bars to adjust the expected cost of user dissatisfaction by starvation or congestion. In a proper jupyter setup the \"sweet-spot\" curves will change interactively.  "
   ]
  },
  {
   "cell_type": "code",
   "execution_count": 1,
   "metadata": {},
   "outputs": [
    {
     "data": {
      "application/vnd.jupyter.widget-view+json": {
       "model_id": "41e6523d95c043c5b00dcbeb12b83a94",
       "version_major": 2,
       "version_minor": 0
      },
      "text/plain": [
       "interactive(children=(FloatSlider(value=1.0, description='starvation', max=20.0), FloatSlider(value=1.0, descr…"
      ]
     },
     "metadata": {},
     "output_type": "display_data"
    }
   ],
   "source": [
    "\n",
    "import costModel\n",
    "%matplotlib inline\n",
    "\n",
    "\n"
   ]
  },
  {
   "cell_type": "markdown",
   "metadata": {},
   "source": []
  },
  {
   "cell_type": "markdown",
   "metadata": {},
   "source": []
  }
 ],
 "metadata": {
  "kernelspec": {
   "display_name": "Python 3.9.6 64-bit",
   "language": "python",
   "name": "python3"
  },
  "language_info": {
   "codemirror_mode": {
    "name": "ipython",
    "version": 3
   },
   "file_extension": ".py",
   "mimetype": "text/x-python",
   "name": "python",
   "nbconvert_exporter": "python",
   "pygments_lexer": "ipython3",
   "version": "3.9.6"
  },
  "orig_nbformat": 4,
  "vscode": {
   "interpreter": {
    "hash": "f336d4cca5cee6452d371f2b32b717068a2ee1b4d76df6940696b593ffa43318"
   }
  }
 },
 "nbformat": 4,
 "nbformat_minor": 2
}
