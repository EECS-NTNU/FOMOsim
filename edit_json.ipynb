{
 "cells": [
  {
   "cell_type": "code",
   "execution_count": 10,
   "metadata": {},
   "outputs": [],
   "source": [
    "import os\n",
    "import gzip\n",
    "import shutil\n",
    "import json"
   ]
  },
  {
   "cell_type": "code",
   "execution_count": 11,
   "metadata": {},
   "outputs": [],
   "source": [
    "instances_path = os.getcwd() + \"/instances\"\n",
    "ebike_folder = instances_path + \"/ebike\""
   ]
  },
  {
   "cell_type": "code",
   "execution_count": 12,
   "metadata": {},
   "outputs": [],
   "source": [
    "def fix_json(filename):\n",
    "    with gzip.open(instances_path + '/' + filename, 'rt', encoding='utf-8') as gz_file:\n",
    "        data = json.loads(gz_file.read())\n",
    "\n",
    "        if 'bike_class' in data:\n",
    "            data['bike_class'] = 'EBike'\n",
    "\n",
    "        for index, station in enumerate(data.get('stations', [])):\n",
    "            # Set capacity to 'inf' for all stations\n",
    "            station['capacity'] = 'inf'\n",
    "        \n",
    "            # Change 'is_depot' to true only for the first station\n",
    "            if index == 0:\n",
    "                station['is_depot'] = True\n",
    "\n",
    "    with gzip.open(ebike_folder + '/' + filename, 'wt', encoding='utf-8') as gz_file:\n",
    "        json.dump(data, gz_file, indent=4)\n",
    "\n",
    "\n",
    "def move_png(filename):\n",
    "    shutil.copy(instances_path + '/' + filename, ebike_folder + '/' + filename)"
   ]
  },
  {
   "cell_type": "code",
   "execution_count": 13,
   "metadata": {},
   "outputs": [],
   "source": [
    "for filename in os.listdir(instances_path):\n",
    "    if filename.endswith('.json.gz'):\n",
    "        fix_json(filename)\n",
    "    elif filename.endswith('.png'):\n",
    "        move_png(filename)"
   ]
  },
  {
   "cell_type": "code",
   "execution_count": null,
   "metadata": {},
   "outputs": [],
   "source": []
  }
 ],
 "metadata": {
  "kernelspec": {
   "display_name": "Python 3",
   "language": "python",
   "name": "python3"
  },
  "language_info": {
   "codemirror_mode": {
    "name": "ipython",
    "version": 3
   },
   "file_extension": ".py",
   "mimetype": "text/x-python",
   "name": "python",
   "nbconvert_exporter": "python",
   "pygments_lexer": "ipython3",
   "version": "3.11.6"
  }
 },
 "nbformat": 4,
 "nbformat_minor": 2
}
